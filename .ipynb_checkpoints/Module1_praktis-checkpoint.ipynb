{
 "cells": [
  {
   "cell_type": "markdown",
   "id": "085cf505-b1ee-4b79-9c42-0e873b975df4",
   "metadata": {
    "tags": []
   },
   "source": [
    "\n",
    "# Module 1 : Drivhus effekt og jordtemperaturen\n",
    "\n",
    "Energy balance: the energy coming in a systen must equal the energy coming out such that:\n",
    "\n",
    "\\begin{equation} P_{in}=P_{out} \\tag{1} \\end{equation}\n"
   ]
  },
  {
   "cell_type": "markdown",
   "id": "9851b793-1510-4456-b903-4d4e187e23ff",
   "metadata": {},
   "source": [
    "<img src=\"figurer_til_module1_a.png\">"
   ]
  },
  {
   "cell_type": "markdown",
   "id": "2bc953d2-6e29-42c2-a586-b0becbb8c9ad",
   "metadata": {
    "tags": []
   },
   "source": [
    "## Jordtemperaturen uten atmosfære\n",
    "\n",
    "The sun is radiating 1361 W.m$^{-2}$ ($\\Omega$) at one astronomical unit (distance sun-Earth). A disk of these radiations intercept the Earth, such that the Earth receive a total energy of $\\Omega\\times\\pi~R^{2}$ per unity of surface and time. In this equation, R corresponds to the radius of the Earth. However, part of this energy is directly re-emitted through reflexion. The reflexion of radiations by a surface is called albedo ($\\alpha$). Ranging from 0 to 1, the albedo indicates a reemission of 0$\\%$ to 100$\\%$ of the radiations, while $(1-\\alpha)$ of the radiations are absorbed. \n",
    "In particular, fresh snow has an albedo of 0.9 (10$\\%$ of absorption) while the open ocean has an albedo of 0.06 (94$\\%$ of absorption). Overall, the Earth has a mean albedo $\\alpha=0.306$"
   ]
  },
  {
   "cell_type": "markdown",
   "id": "66dcc594-95ba-4e3f-8ba6-e373b8ed6871",
   "metadata": {},
   "source": [
    "<img src=\"figurer_til_module1_b.png\">"
   ]
  },
  {
   "cell_type": "markdown",
   "id": "b2d22236-443a-4a91-ba35-65a7dc76762f",
   "metadata": {},
   "source": [
    "To summarize, the Earth is absorbing the following energy per unit of time:\n",
    "\n",
    "\\begin{equation} P_{in} = (1-\\alpha)~\\Omega \\times \\pi ~R^{2} \\tag{2} \\end{equation}\n",
    "\n",
    "By receiving radiations, the Earth heats up and emits thermal radiations. Assuming an equilibrium temperature of the Earth $T_{E}$ and that it behaves like a black body, the energy emitted by the Earth by unit of time $P_{out}$ is given by the Stefan Boltzmann law:\n",
    "\n",
    "\\begin{equation} P_{out} = 4\\pi ~R^{2} \\times \\sigma ~T_{e}^{4} \\tag{3}\\end{equation}\n",
    "\n",
    "with $\\sigma=5.67\\times 10^{-8}$W.m$^{-2}$.K$^{-4}$ the Boltzmann constant, and $4\\pi R^{2}$ the surface of the Earth. \n",
    "By combining equation (1), (2) and (3), we find that the temperature of the Earth without an atmosphere is:\n",
    "\n",
    "\\begin{equation} T_{e} = \\left( \\frac{ \\Omega\\times(1-\\alpha)}{4~\\sigma} \\right)^{\\frac{1}{4}} \\tag{4}\\end{equation}\n"
   ]
  },
  {
   "cell_type": "markdown",
   "id": "9c688f61-9db2-4a77-ac56-a58381895b9d",
   "metadata": {},
   "source": [
    "<img src=\"figurer_til_module1_c.png\">"
   ]
  },
  {
   "cell_type": "markdown",
   "id": "604791a0-e8e7-4e34-93a2-62b78621d07c",
   "metadata": {},
   "source": [
    "### Exercice 1:\n",
    "* 1- fill in the values of $\\Omega$, $\\sigma$ and $\\alpha$ and compile\n",
    "* 2- compile and print below the temperature of the Earth without an atmosphere\n",
    "* 3- what would be the temperature of the Earth if it was covered with grass, ocean or solar pannels? alphaS below is a panda serie containing multiple albedo values. By replacing \"alpha\" by \"alphaS\" in equation (4), one get a panda serie of temperature. Add other albedo values, as for example the albedo of solar pannels, and compile the cell below\n",
    "* 4- One can use the same formula to compute the temperature of Venus and Mars, by changing the albedo and the solar irradiance (which is based on the distance to the sun). Compute the temperature using $\\alpha=0.250$ and $\\Omega=586.2$ for Mars, $\\alpha=0.77$ and $\\Omega=2601$ for Venus. (It is recommended to create a function)\n"
   ]
  },
  {
   "cell_type": "code",
   "execution_count": 1,
   "id": "28698870-5323-44c2-8dfc-659fd01b41cc",
   "metadata": {
    "tags": []
   },
   "outputs": [],
   "source": [
    "### (1)\n",
    "omega = 0                 # solar constant (W.m-2)\n",
    "sigma = 0            # Stefan Boltzman constant (W.m-2.K-4)\n",
    "alpha = 0                  # albedo: fraction of solar radiations reflected by the Earth"
   ]
  },
  {
   "cell_type": "code",
   "execution_count": 2,
   "id": "e7e2a20f-c508-49e4-b36b-dd8d246f9009",
   "metadata": {
    "tags": []
   },
   "outputs": [
    {
     "ename": "ZeroDivisionError",
     "evalue": "division by zero",
     "output_type": "error",
     "traceback": [
      "\u001b[0;31m---------------------------------------------------------------------------\u001b[0m",
      "\u001b[0;31mZeroDivisionError\u001b[0m                         Traceback (most recent call last)",
      "\u001b[0;32m/tmp/ipykernel_8686/269800202.py\u001b[0m in \u001b[0;36m<module>\u001b[0;34m\u001b[0m\n\u001b[1;32m      1\u001b[0m \u001b[0;31m### (2)\u001b[0m\u001b[0;34m\u001b[0m\u001b[0;34m\u001b[0m\u001b[0;34m\u001b[0m\u001b[0m\n\u001b[0;32m----> 2\u001b[0;31m \u001b[0mTe_uten_atmosfær\u001b[0m \u001b[0;34m=\u001b[0m \u001b[0;34m(\u001b[0m\u001b[0momega\u001b[0m\u001b[0;34m*\u001b[0m\u001b[0;34m(\u001b[0m\u001b[0;36m1\u001b[0m\u001b[0;34m-\u001b[0m\u001b[0malpha\u001b[0m\u001b[0;34m)\u001b[0m\u001b[0;34m/\u001b[0m\u001b[0;34m(\u001b[0m\u001b[0;36m4\u001b[0m\u001b[0;34m*\u001b[0m\u001b[0msigma\u001b[0m\u001b[0;34m)\u001b[0m\u001b[0;34m)\u001b[0m \u001b[0;34m**\u001b[0m\u001b[0;34m(\u001b[0m\u001b[0;36m1\u001b[0m\u001b[0;34m/\u001b[0m\u001b[0;36m4\u001b[0m\u001b[0;34m)\u001b[0m\u001b[0;34m\u001b[0m\u001b[0;34m\u001b[0m\u001b[0m\n\u001b[0m\u001b[1;32m      3\u001b[0m \u001b[0;34m\u001b[0m\u001b[0m\n\u001b[1;32m      4\u001b[0m \u001b[0mprint\u001b[0m\u001b[0;34m(\u001b[0m\u001b[0;34m\"%.2f\"\u001b[0m \u001b[0;34m%\u001b[0m\u001b[0;34m(\u001b[0m\u001b[0mTe_uten_atmosfær\u001b[0m \u001b[0;34m-\u001b[0m\u001b[0;36m273\u001b[0m\u001b[0;34m)\u001b[0m\u001b[0;34m,\u001b[0m\u001b[0;34m'°C'\u001b[0m\u001b[0;34m)\u001b[0m\u001b[0;34m\u001b[0m\u001b[0;34m\u001b[0m\u001b[0m\n",
      "\u001b[0;31mZeroDivisionError\u001b[0m: division by zero"
     ]
    }
   ],
   "source": [
    "### (2)\n",
    "Te_uten_atmosfær = (omega*(1-alpha)/(4*sigma)) **(1/4)\n",
    "\n",
    "print(\"%.2f\" %(Te_uten_atmosfær -273),'°C')"
   ]
  },
  {
   "cell_type": "code",
   "execution_count": null,
   "id": "865c4e66-d7fe-4cc3-9e7c-06b0701fcdd1",
   "metadata": {},
   "outputs": [],
   "source": [
    "### (3)\n",
    "\n",
    "import pandas as pd\n",
    "alphaS = pd.Series([0],index=['black body'])\n",
    "\n",
    "Te_uten_atmosfær = ( omega*(1-alphaS)/(4*sigma) )**(1/4)\n",
    "\n",
    "print('Hypothetical temperature of the Earth with a different surface: \\n \\n',Te_uten_atmosfær-273)"
   ]
  },
  {
   "cell_type": "code",
   "execution_count": null,
   "id": "cca1375f-00a3-4423-8732-5a689887047b",
   "metadata": {},
   "outputs": [],
   "source": [
    "### (4) E\n",
    "def T_uten_atm(alpha,omega):\n",
    "    T = 0\n",
    "    return T"
   ]
  },
  {
   "cell_type": "markdown",
   "id": "f0017d02-2297-4f38-a880-741a0190354c",
   "metadata": {
    "tags": []
   },
   "source": [
    "## Jordtemperaturen med enkel atmosfære\n",
    "\n",
    "We now add a simple homogenous layer of gas acting as a grey body. This layer absorbs $\\epsilon_{a}$ of the thermal radiations emitted by the Earth and emits thermal radiations in all directions (upward and downward). The amount of emission per unit area is defined by the folowing expression: $\\epsilon \\times \\sigma~T_{a}^{4}$ where $\\epsilon$ is the emissivity and $T_{a}$ is the equilibrium temperature of the atmosphere. In fact, a grey body emits the same amount of energy than a black body at the same temperature mutliplied by the emissivity.\n",
    "\n",
    "In addition, the  absorptivity equals the emissivity if the grey body is in thermal equilibrium ($\\epsilon_{a}=\\epsilon$) \n",
    "\n",
    "Finally, we consider that the surface of the bottom and top of the atmosphere is the same as the Earth surface ($S_{ba}=S_{ta}=4\\pi~R^{2}$) for simplifications, so that the atmosphere absorbs $\\epsilon \\times 4\\pi~R^{2}\\sigma~T_{e}^{4}$ and emits in total $2\\times 4\\pi~R^{2}\\times \\epsilon \\times\\sigma~T_{a}^{4}$. The different energy fluxes are represented on the sketch below. Note that all the fluxes (and following equations) were divided by $4\\pi~R^{2}$ to improve the readability."
   ]
  },
  {
   "cell_type": "markdown",
   "id": "5af00b1a-1320-40a0-bc5d-dde5e53e0dcb",
   "metadata": {},
   "source": [
    "<img src=\"figurer_til_module1_d.png\">"
   ]
  },
  {
   "cell_type": "markdown",
   "id": "a1bb2fe6-2a5f-4113-b333-50410651625a",
   "metadata": {
    "tags": []
   },
   "source": [
    "### Energy budget:\n",
    "\n",
    "\\begin{equation} \\textrm{Jord:}~~ (1-\\alpha)\\frac{\\Omega}{4} + \\epsilon~\\sigma~ T_{a}^{4} = \\sigma~ T_{e}^{4} \\tag{5} \\end{equation}\n",
    "\\begin{equation} \\textrm{Atmosfær:} ~~ \\epsilon~\\sigma~ T_{e}^{4} = 2\\times \\epsilon~\\sigma~ T_{a}^{4} \\tag{6}\\end{equation}\n",
    "\\begin{equation} \\textrm{Topen av atmosfæren:} ~~ \\frac{\\Omega}{4} = \\alpha \\frac{\\Omega}{4}+(1-\\epsilon)~\\sigma~ T_{e}^{4} +  \\epsilon~\\sigma~ T_{a}^{4} \\tag{7}\\end{equation}\n",
    "\n",
    "### Exercise 2:\n",
    "\n",
    "* 1- Find the relation between the temperature of the atmosphere and the temperature of the Earth.  \n",
    "* 2 - By replacing $T_{a}$ in equation (5) you can now find the tempertaure of the Earth:\n",
    "\\begin{equation} T_{e} =  \\left( \\frac{(1-\\alpha)}{4\\sigma(1-\\frac{\\epsilon}{2})} \\right) ^{\\frac{1}{4}}  \\end{equation}\n",
    "Create the variable $\\epsilon=0.77$ and compute the temperature using the variables already defined in Exercise 1 ($\\omega$,  $\\sigma$ and $\\alpha$). Print your result.\n",
    "* 3 - idea: tried different $\\epsilon$ accounting for more or less greenhouse gases.."
   ]
  },
  {
   "cell_type": "code",
   "execution_count": null,
   "id": "47f65e21-b7ea-4258-9061-54f40a77181d",
   "metadata": {},
   "outputs": [],
   "source": [
    "### 2\n",
    "epsilon = 0          # emissivity / fraction of longwaves radiations absorbed by the atmosphere\n",
    "Te_med_atmosfær = ...\n",
    "print(\"%.2f\" %(Te_med_atmosfær),'°C')"
   ]
  },
  {
   "cell_type": "code",
   "execution_count": null,
   "id": "29462b5a-3e12-4e66-b251-f0c4ba96cc5e",
   "metadata": {},
   "outputs": [],
   "source": [
    "# you can inspire you\n",
    "def T_med_atm(alpha,omega,epsilon):\n",
    "    ...\n",
    "    return T\n",
    "\n",
    "print(T_med_atm(0.77,2601,1))\n",
    "\n",
    "print( 2*(1-(1-alpha)*omega/((737**4)*4*sigma)) )"
   ]
  },
  {
   "cell_type": "markdown",
   "id": "329513e3-b060-49a4-bcf7-a164e1799fc2",
   "metadata": {},
   "source": [
    "## References:\n",
    "https://nssdc.gsfc.nasa.gov/planetary/factsheet/"
   ]
  },
  {
   "cell_type": "code",
   "execution_count": null,
   "id": "afdf00c7-c68e-4968-9432-fb4fdfbebc0c",
   "metadata": {},
   "outputs": [],
   "source": []
  }
 ],
 "metadata": {
  "kernelspec": {
   "display_name": "Python 3 (ipykernel)",
   "language": "python",
   "name": "python3"
  },
  "language_info": {
   "codemirror_mode": {
    "name": "ipython",
    "version": 3
   },
   "file_extension": ".py",
   "mimetype": "text/x-python",
   "name": "python",
   "nbconvert_exporter": "python",
   "pygments_lexer": "ipython3",
   "version": "3.9.6"
  }
 },
 "nbformat": 4,
 "nbformat_minor": 5
}
