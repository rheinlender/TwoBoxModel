{
 "cells": [
  {
   "cell_type": "markdown",
   "metadata": {},
   "source": [
    "# Module 3 - natural vs manmade radiations (feat ToboxModel)\n",
    "\n",
    "Like in module 2, we first need to import the librairies and the toboks function calculate_temp_anomalies"
   ]
  },
  {
   "cell_type": "code",
   "execution_count": 1,
   "metadata": {},
   "outputs": [],
   "source": [
    "# Lese inn relavente python pakker vi ska bruke\n",
    "import pandas as pd\n",
    "import matplotlib.pyplot as plt\n",
    "#%matplotlib notebook inkluder denne linjen om du vil åpne i Jupyter Notebook og vil lage interaktive plott\n",
    "%matplotlib inline\n",
    "\n",
    "from toboks import calculate_temp_anomalies # henter funksjonen som beregner temperaturanomalier basert på toboksmodellen"
   ]
  },
  {
   "cell_type": "markdown",
   "metadata": {},
   "source": [
    "We also save the data stored in the \"historical.csv\" file into a DataFrame (df). This DataFrame contains the radiative forcing associated to changes in greenhouse gases, solar radiations, volcanic activity, agricultur and aerosols."
   ]
  },
  {
   "cell_type": "code",
   "execution_count": 2,
   "metadata": {},
   "outputs": [
    {
     "name": "stdout",
     "output_type": "stream",
     "text": [
      "Radiative forcing in W/m2 \n",
      " \n",
      "         drivhusgasser  solinnstråling  vulkanisme  arealbruk  aerosoler\n",
      "År                                                                     \n",
      "1751.0         -0.019          -0.014       0.000      0.000     -0.002\n",
      "1752.0         -0.018          -0.029       0.000     -0.001     -0.004\n",
      "1753.0         -0.017          -0.033       0.000     -0.001     -0.005\n",
      "1754.0         -0.017          -0.043       0.000     -0.002     -0.007\n",
      "1755.0         -0.016          -0.054      -0.664     -0.002     -0.009\n",
      "...               ...             ...         ...        ...        ...\n",
      "2007.0          2.697          -0.017      -0.100     -0.150     -0.907\n",
      "2008.0          2.728          -0.025      -0.100     -0.150     -0.904\n",
      "2009.0          2.761          -0.027      -0.125     -0.150     -0.902\n",
      "2010.0          2.794           0.001      -0.100     -0.150     -0.900\n",
      "2011.0          2.831           0.030      -0.125     -0.150     -0.900\n",
      "\n",
      "[261 rows x 5 columns]\n"
     ]
    }
   ],
   "source": [
    "# les inn historisk data fra filen 'historical.csv'\n",
    "df=pd.read_csv('historical.csv',index_col = 0,sep=',',encoding = \"utf-8\")\n",
    "\n",
    "print('Radiative forcing in W/m2 \\n \\n', df)"
   ]
  },
  {
   "cell_type": "markdown",
   "metadata": {},
   "source": [
    "## Control run \n",
    "\n",
    "Below we compute the temperature change resulting from all the listed radiative forcings: greenhouse gases, solar activity, volcanic activity, agricultur, and aerosols. For the other parameters, we use the same values than in module 2 (ie, a mean of the values used by validated earth system models). We'll call this first experiment our \"control run\". The temperature change is then saved in the DataFrame under the index \"control\". By saving later experiment the same way, it will be easy to compare them later.\n",
    "\n",
    "To create a new experiment, copy and paste the cell below. Change the parameters that need to be changed, and remember to change the index \"control\"."
   ]
  },
  {
   "cell_type": "code",
   "execution_count": 8,
   "metadata": {},
   "outputs": [
    {
     "data": {
      "image/png": "[encoded data removed]",
      "text/plain": [
       "<Figure size 432x288 with 1 Axes>"
      ]
     },
     "metadata": {
      "needs_background": "light"
     },
     "output_type": "display_data"
    }
   ],
   "source": [
    "#/CONTROL//////////////////////////////////////////////////////////////////////////////////////////////////////////////\n",
    "                                                                                                                    #//\n",
    "# Forcing switches [n=1 off=0]                                                                                      #//\n",
    "switch_ghg=1     # Greenhouse gas forcing on=1 off=0                                                                #//\n",
    "switch_solar=1   # Solar forcing on=1 off=0                                                                         #//\n",
    "switch_volc=1   # Volcanic forcing on=1 off=0                                                                       #//\n",
    "switch_land=1    # Landuse forcing on=1 off=0                                                                       #//\n",
    "switch_aero=1    # Pollution particle forcing on=1 off=0                                                            #//\n",
    "                                                                                                                    #//\n",
    "total_forcing = (switch_ghg*df['drivhusgasser']+switch_solar*df['solinnstråling']+switch_volc*df['vulkanisme']    \n",
    "                +switch_land*df['arealbruk']+switch_aero*df['aerosoler'])                                           #//\n",
    "                                                                                                                    #//\n",
    "# parameters                                                                                                        #//\n",
    "lambda_planck=-3.1     # Stefan Boltzmann's 'feedback' [Wm-2K-1] best guesses  [-3.3 to -3.1]                       #//\n",
    "lambda_lapse=-0.6      # Lapse rate feedback [Wm-2K-1] best guesses [-1.2 to -0.5]                                  #//\n",
    "lambda_water=1.7       # water vapor feedback [Wm-2K-1] best guesses [1.5 to 2.2]                                   #//\n",
    "lambda_cloud=0.50      # Clouds feedback [Wm-2K-1] best guesses [0.1 to 1.2]                                        #//\n",
    "lambda_albedo=0.40     # Surface albedo feedback [Wm-2K-1] best guesses [0.1 to 0.4]                                #//\n",
    "lambda_other=0.0       # Other feedbacks [Wm-2K-1]                                                                  #//\n",
    "                                                                                                                    #//\n",
    "lambda_sum=sum([lambda_planck,                                                                                      #//\n",
    "    lambda_lapse,                                                                                                   #//\n",
    "    lambda_water,                                                                                                   #//\n",
    "    lambda_cloud,                                                                                                   #//\n",
    "    lambda_albedo,                                                                                                  #//\n",
    "    lambda_other])                                                                                                  #//\n",
    "                                                                                                                    #//\n",
    "# Deep ocean heat uptake efficency [Wm-2K-1]                                                                        #//\n",
    "# CMIP3 values                                                                                                      #//\n",
    "gamma=-0.69  # best guesses [-1 to -0.5]                                                                            #//\n",
    "                                                                                                                    #//\n",
    "# konverter dataframe til data-array                                                                                #//\n",
    "radiative_forcing = total_forcing.to_numpy()                                                                        #//     \n",
    "                                                                                                                    #//\n",
    "# kaller opp funksjonen som regner ut temperaturendringene                                                          #//\n",
    "df['control'], To = calculate_temp_anomalies(radiative_forcing, lambda_sum, gamma)                                  #//\n",
    "                                                                                                                    #//\n",
    "df['control'].plot(ylabel=\"$\\Delta T$  $[^oC]$\", title=\"Temperaturendringer\")                                       #//\n",
    "plt.axhline(y=0, linewidth=0.7, color=\"black\")                                                                      #//\n",
    "                                                                                                                    #//\n",
    "# deleting variables that will be re-used. Not necessary but it can help to avoid mistakes                          #//\n",
    "del switch_ghg, switch_solar, switch_volc, switch_land, switch_aero                                                 #//\n",
    "del total_forcing                                                                                                   #//\n",
    "del lambda_planck, lambda_lapse, lambda_water, lambda_cloud, lambda_albedo, lambda_other, lambda_sum, gamma         #//\n",
    "                                                                                                                    #//\n",
    "# /////////////////////////////////////////////////////////////////////////////////////////////////////////////////////"
   ]
  },
  {
   "cell_type": "markdown",
   "metadata": {},
   "source": [
    "With no suprise (since we used the same parameters), we obtain the same temperature change than in modul2. As in modul2, we can evaluate the temperature anomalies with respect to the reference time period 1850-1900 and select the temperature change at a specific year.\n",
    "\n",
    "<u>Reminder:</u> \n",
    "\n",
    "You can select a time period year1:year2 in a DataFrame by typing **DataFrameName['variable_name'].loc[year1:year2]**\n",
    "\n",
    "You can compute the mean of the variable for that time period by doing **DataFrameName['variable_name'].loc[year1:year2].mean**\n",
    "\n",
    "**NewObject = DataFrameName['VariableName']+some operations** will create a new DataFrame \n",
    "\n",
    "while  **DataFrameName['VariableName2']=DataFrameName['VariableName']+some  operations** adds one variable/column (with index VariableName2) to the preexisting DataFrame ."
   ]
  },
  {
   "cell_type": "code",
   "execution_count": 9,
   "metadata": {},
   "outputs": [
    {
     "data": {
      "text/plain": [
       "<matplotlib.lines.Line2D at 0x7fa4b322e0a0>"
      ]
     },
     "execution_count": 9,
     "metadata": {},
     "output_type": "execute_result"
    },
    {
     "data": {
      "image/png": "[encoded data removed]",
      "text/plain": [
       "<Figure size 432x288 with 1 Axes>"
      ]
     },
     "metadata": {
      "needs_background": "light"
     },
     "output_type": "display_data"
    }
   ],
   "source": [
    "# the temperature anomalies with respect to one time period is done below in one line:\n",
    "Tanom =  df['control']- df['control'].loc[1850:1900].mean() # temp. anomaly\n",
    "# make plot\n",
    "Tanom.plot()\n",
    "plt.axhline(y=0, linewidth=0.7, color=\"black\", ls='--')"
   ]
  },
  {
   "cell_type": "code",
   "execution_count": 5,
   "metadata": {},
   "outputs": [
    {
     "name": "stdout",
     "output_type": "stream",
     "text": [
      "Temperature change at year  2011 : 0.13 °C\n"
     ]
    }
   ],
   "source": [
    "# selecting the temperature change at one specific year\n",
    "# below we use the temperature anomalies with respect to 1850-1900\n",
    "year = 2011\n",
    "Tloc = Tanom.loc[year]\n",
    "print('Temperature change at year ', year, ':', \"%.2f\" %(Tloc),'°C')"
   ]
  },
  {
   "cell_type": "markdown",
   "metadata": {},
   "source": [
    "## Questions\n",
    "\n",
    "### 1 - preliminary questions: \n",
    "\n",
    "* According to the simple expression found for the Earth temperature in modul1 $T_{e} =  \\left( \\frac{(1-\\alpha)\\Omega}{4\\sigma(1-\\frac{\\epsilon}{2})} \\right) ^{\\frac{1}{4}} $, the temperature of the Earth can increase if 1- its albedo decrease ($\\alpha$) 2- the solar constant increases ($\\Omega$) or 3- the absorption/emission of longwave radations in the atmosphere increases. Could you guess on which of these parameters greenhouse gases, solar activity, volcanic activity, agricultur, and aerosols, act?\n",
    "\n",
    "* For simplification, these parameters are reduced to \"radiative forcings\". A positive radiative forcing induces an increase in temperature, while a negative one induces a cooling. The higher the absolute value of the radiative forcing is, the higher the temperature changes. Using the values of the radiative forcings (given for the perid 1750 to 2013), compare the relative effect of greenhouse gases, solar activity, volcanic activity, agricultur, and aerosols on the Earth energy balance. You can look at the DataFrame to look at the order of magnitude of the radiative forcing (remember that you can easily plot these variables), or print the maximum/minimum for each forcing. \n",
    "\n",
    "### 2 - Create two experiments:\n",
    "\n",
    "* Run#2:'NoHumanActivity', same as the control, but without the forcings due to human activity (greenhouse gas forcing, land-use and aerosols)\n",
    "\n",
    "* Run#3: 'NoVolcanoes', same as the control, but without the forcing due to volcanoes"
   ]
  },
  {
   "cell_type": "code",
   "execution_count": 6,
   "metadata": {},
   "outputs": [],
   "source": [
    "#/NoHumanActivity//////////////////////////////////////////////////////////////////////////////////////////////////////\n",
    "                                                                                                                    #//\n",
    "# /////////////////////////////////////////////////////////////////////////////////////////////////////////////////////"
   ]
  },
  {
   "cell_type": "code",
   "execution_count": 7,
   "metadata": {},
   "outputs": [],
   "source": [
    "#/NoVolcanoes//////////////////////////////////////////////////////////////////////////////////////////////////////////\n",
    "                                                                                                                    #//\n",
    "# /////////////////////////////////////////////////////////////////////////////////////////////////////////////////////"
   ]
  },
  {
   "cell_type": "code",
   "execution_count": null,
   "metadata": {},
   "outputs": [],
   "source": [
    "# Ploting the 3 experiments temperature change: (remove the #s below)\n",
    "\n",
    "#df['control'].plot(ylabel=\"$\\Delta T$  $[^oC]$\", title=\"Temperaturendringer\")  \n",
    "#df['NoHumanActivity'].plot(ylabel=\"$\\Delta T$  $[^oC]$\", title=\"Temperaturendringer\") \n",
    "#df['NoVolcanoes'].plot(ylabel=\"$\\Delta T$  $[^oC]$\", title=\"Temperaturendringer\")  \n",
    "#plt.legend()"
   ]
  },
  {
   "cell_type": "markdown",
   "metadata": {},
   "source": [
    "### 3 - Analyzing the runs:\n",
    "\n",
    "* What is the difference in temperature trend between the different ? Which of the experiment is closest to the observed changes over the last 100 year? \n",
    "\n",
    "* Which radiative forcing has been the main one before the pre-industrial time? Is there a change in which forcing that might be the dominant one in the future?\n",
    "\n",
    "* What is the main effect of turning off the volcanoes? "
   ]
  },
  {
   "cell_type": "code",
   "execution_count": null,
   "metadata": {},
   "outputs": [],
   "source": []
  }
 ],
 "metadata": {
  "kernelspec": {
   "display_name": "Python 3",
   "language": "python",
   "name": "python3"
  },
  "language_info": {
   "codemirror_mode": {
    "name": "ipython",
    "version": 3
   },
   "file_extension": ".py",
   "mimetype": "text/x-python",
   "name": "python",
   "nbconvert_exporter": "python",
   "pygments_lexer": "ipython3",
   "version": "3.8.3"
  }
 },
 "nbformat": 4,
 "nbformat_minor": 5
}
