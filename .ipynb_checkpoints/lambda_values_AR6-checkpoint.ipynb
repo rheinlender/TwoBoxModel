{
 "cells": [
  {
   "cell_type": "markdown",
   "metadata": {},
   "source": [
    "| Stretch/Untouched | ProbDistribution | Accuracy |\n",
    "| :- | -: | :-: |\n",
    "| Stretched | Gaussian | .843\n"
   ]
  },
  {
   "cell_type": "code",
   "execution_count": 70,
   "metadata": {},
   "outputs": [],
   "source": [
    "import pandas as pd \n",
    "import matplotlib.pyplot as plt\n",
    "from pandas.plotting import table\n"
   ]
  },
  {
   "cell_type": "code",
   "execution_count": 39,
   "metadata": {},
   "outputs": [],
   "source": [
    "# define values for feedback paramers. \n",
    "\n",
    "# the values are based on the AR6 assesed ranges from CMIP5/6 models. See Chapter 7.4.2 in AR6. \n",
    "\n",
    "# note that the water vapour and lapse rate feedback is considered together as a sum in AR6. \n",
    "# Here, we keep them seperate and report their mean and standard deviation. All feedback are in [W m–2 °C–1]\n",
    "\n",
    "# the 1st value is the Central Estimate, 2nd and 3rd are the \"Very Likely Interval\" (i.e. min and max) and lastly the Level of Confidence\n",
    "\n",
    "lamdba_names = ('Planck', 'Water Vapour', 'Lapse Rate', 'Albedo', 'Cloud')\n",
    "\n",
    "lamdba_planck = (-3.22, -3.4, -3.0, 'high')\n",
    "lamdba_WV = (1.77, 1.57, 1.97, 'high') # from Zelinka et al., 2020 (one standard deviation)\n",
    "lamdba_LR = (-0.5, -0.7, -0.3, 'high') # from Dessler, 2013; Caldwell et al., 2016; Colman and Hanson, 2017; Zelinka et al., 2020 (one standard deviation)\n",
    "lambda_albedo = (0.35, 0.1, 0.6, 'medium')\n",
    "lambda_cloud = (0.42, -0.1, 0.94, 'high')\n",
    "\n",
    "lamdba_values = [lamdba_planck,lamdba_WV,lamdba_LR,lambda_albedo,lambda_cloud]\n",
    "\n"
   ]
  },
  {
   "cell_type": "code",
   "execution_count": 29,
   "metadata": {},
   "outputs": [
    {
     "data": {
      "text/plain": [
       "(-3.22, -3.4, 3.0)"
      ]
     },
     "execution_count": 29,
     "metadata": {},
     "output_type": "execute_result"
    }
   ],
   "source": []
  },
  {
   "cell_type": "code",
   "execution_count": 54,
   "metadata": {},
   "outputs": [],
   "source": [
    "\n",
    "# create dataframe\n",
    "df = pd.DataFrame(columns=['Feedback parameter (W m$^{-2}$ $^{\\circ}$C)', 'Central estimate', '\"Very likely\" Interval', 'Level of Confidence'])\n"
   ]
  },
  {
   "cell_type": "code",
   "execution_count": 86,
   "metadata": {},
   "outputs": [
    {
     "ename": "AttributeError",
     "evalue": "'float' object has no attribute 'round'",
     "output_type": "error",
     "traceback": [
      "\u001b[0;31m---------------------------------------------------------------------------\u001b[0m",
      "\u001b[0;31mAttributeError\u001b[0m                            Traceback (most recent call last)",
      "\u001b[0;32m<ipython-input-86-d5fce36cebee>\u001b[0m in \u001b[0;36m<module>\u001b[0;34m\u001b[0m\n\u001b[1;32m      7\u001b[0m     \u001b[0;31m# APPEND TO DATAFRAME\u001b[0m\u001b[0;34m\u001b[0m\u001b[0;34m\u001b[0m\u001b[0;34m\u001b[0m\u001b[0m\n\u001b[1;32m      8\u001b[0m     df.loc[i] = [lamdba_names[i],\n\u001b[0;32m----> 9\u001b[0;31m                  \u001b[0mvals\u001b[0m\u001b[0;34m[\u001b[0m\u001b[0;36m0\u001b[0m\u001b[0;34m]\u001b[0m\u001b[0;34m.\u001b[0m\u001b[0mround\u001b[0m\u001b[0;34m(\u001b[0m\u001b[0mdecimals\u001b[0m\u001b[0;34m=\u001b[0m\u001b[0;36m1\u001b[0m\u001b[0;34m)\u001b[0m\u001b[0;34m,\u001b[0m\u001b[0;34m\u001b[0m\u001b[0;34m\u001b[0m\u001b[0m\n\u001b[0m\u001b[1;32m     10\u001b[0m                  \u001b[0;34mf\"{vals[1].round(decimals=1)} to {vals[2].round(decimals=1)}\"\u001b[0m\u001b[0;34m,\u001b[0m\u001b[0;34m\u001b[0m\u001b[0;34m\u001b[0m\u001b[0m\n\u001b[1;32m     11\u001b[0m                  vals[3]]\n",
      "\u001b[0;31mAttributeError\u001b[0m: 'float' object has no attribute 'round'"
     ]
    }
   ],
   "source": [
    "for i,vals in enumerate(lamdba_values):\n",
    "   # lambda_dict = {'Feedback parameter (W m$^{-2}$ $^{\\circ}$C)': lamdba_names[i],\n",
    "    #               'Central estimate':vals[0],\n",
    "    #               'Very likely Interval': f\"{vals[1]} to {vals[2]}\", \n",
    "    #               'Level of Confidence': vals[3]}\n",
    "    \n",
    "    # APPEND TO DATAFRAME\n",
    "    df.loc[i] = [lamdba_names[i],\n",
    "                 vals[0],\n",
    "                 f\"{vals[1]} to {vals[2]}\", \n",
    "                 vals[3]]\n",
    "df"
   ]
  },
  {
   "cell_type": "code",
   "execution_count": 66,
   "metadata": {},
   "outputs": [
    {
     "ename": "NameError",
     "evalue": "name 'tabulate' is not defined",
     "output_type": "error",
     "traceback": [
      "\u001b[0;31m---------------------------------------------------------------------------\u001b[0m",
      "\u001b[0;31mNameError\u001b[0m                                 Traceback (most recent call last)",
      "\u001b[0;32m<ipython-input-66-238c0e942b45>\u001b[0m in \u001b[0;36m<module>\u001b[0;34m\u001b[0m\n\u001b[1;32m      1\u001b[0m \u001b[0;31m# displaying the DataFrame\u001b[0m\u001b[0;34m\u001b[0m\u001b[0;34m\u001b[0m\u001b[0;34m\u001b[0m\u001b[0m\n\u001b[0;32m----> 2\u001b[0;31m \u001b[0mprint\u001b[0m\u001b[0;34m(\u001b[0m\u001b[0mtabulate\u001b[0m\u001b[0;34m(\u001b[0m\u001b[0mdf\u001b[0m\u001b[0;34m,\u001b[0m \u001b[0mheaders\u001b[0m \u001b[0;34m=\u001b[0m \u001b[0;34m'keys'\u001b[0m\u001b[0;34m,\u001b[0m \u001b[0mtablefmt\u001b[0m \u001b[0;34m=\u001b[0m \u001b[0;34m'psql'\u001b[0m\u001b[0;34m)\u001b[0m\u001b[0;34m)\u001b[0m\u001b[0;34m\u001b[0m\u001b[0;34m\u001b[0m\u001b[0m\n\u001b[0m",
      "\u001b[0;31mNameError\u001b[0m: name 'tabulate' is not defined"
     ]
    }
   ],
   "source": []
  },
  {
   "cell_type": "code",
   "execution_count": 75,
   "metadata": {},
   "outputs": [
    {
     "data": {
      "text/html": [
       "<style  type=\"text/css\" >\n",
       "</style><table id=\"T_6e036288_ebe7_11ec_b4f3_79ec9b01585d\" ><thead>    <tr>        <th class=\"col_heading level0 col0\" >Feedback parameter (W m$^{-2}$ $^{\\circ}$C)</th>        <th class=\"col_heading level0 col1\" >Central estimate</th>        <th class=\"col_heading level0 col2\" >\"Very likely\" Interval</th>        <th class=\"col_heading level0 col3\" >Level of Confidence</th>    </tr></thead><tbody>\n",
       "                <tr>\n",
       "                                <td id=\"T_6e036288_ebe7_11ec_b4f3_79ec9b01585drow0_col0\" class=\"data row0 col0\" >Planck</td>\n",
       "                        <td id=\"T_6e036288_ebe7_11ec_b4f3_79ec9b01585drow0_col1\" class=\"data row0 col1\" >-3.220000</td>\n",
       "                        <td id=\"T_6e036288_ebe7_11ec_b4f3_79ec9b01585drow0_col2\" class=\"data row0 col2\" >-3.4 to -3.0</td>\n",
       "                        <td id=\"T_6e036288_ebe7_11ec_b4f3_79ec9b01585drow0_col3\" class=\"data row0 col3\" >high</td>\n",
       "            </tr>\n",
       "            <tr>\n",
       "                                <td id=\"T_6e036288_ebe7_11ec_b4f3_79ec9b01585drow1_col0\" class=\"data row1 col0\" >Water Vapour</td>\n",
       "                        <td id=\"T_6e036288_ebe7_11ec_b4f3_79ec9b01585drow1_col1\" class=\"data row1 col1\" >1.770000</td>\n",
       "                        <td id=\"T_6e036288_ebe7_11ec_b4f3_79ec9b01585drow1_col2\" class=\"data row1 col2\" >1.57 to 1.97</td>\n",
       "                        <td id=\"T_6e036288_ebe7_11ec_b4f3_79ec9b01585drow1_col3\" class=\"data row1 col3\" >high</td>\n",
       "            </tr>\n",
       "            <tr>\n",
       "                                <td id=\"T_6e036288_ebe7_11ec_b4f3_79ec9b01585drow2_col0\" class=\"data row2 col0\" >Lapse Rate</td>\n",
       "                        <td id=\"T_6e036288_ebe7_11ec_b4f3_79ec9b01585drow2_col1\" class=\"data row2 col1\" >-0.500000</td>\n",
       "                        <td id=\"T_6e036288_ebe7_11ec_b4f3_79ec9b01585drow2_col2\" class=\"data row2 col2\" >-0.7 to -0.3</td>\n",
       "                        <td id=\"T_6e036288_ebe7_11ec_b4f3_79ec9b01585drow2_col3\" class=\"data row2 col3\" >high</td>\n",
       "            </tr>\n",
       "            <tr>\n",
       "                                <td id=\"T_6e036288_ebe7_11ec_b4f3_79ec9b01585drow3_col0\" class=\"data row3 col0\" >Albedo</td>\n",
       "                        <td id=\"T_6e036288_ebe7_11ec_b4f3_79ec9b01585drow3_col1\" class=\"data row3 col1\" >0.350000</td>\n",
       "                        <td id=\"T_6e036288_ebe7_11ec_b4f3_79ec9b01585drow3_col2\" class=\"data row3 col2\" >0.1 to 0.6</td>\n",
       "                        <td id=\"T_6e036288_ebe7_11ec_b4f3_79ec9b01585drow3_col3\" class=\"data row3 col3\" >medium</td>\n",
       "            </tr>\n",
       "            <tr>\n",
       "                                <td id=\"T_6e036288_ebe7_11ec_b4f3_79ec9b01585drow4_col0\" class=\"data row4 col0\" >Cloud</td>\n",
       "                        <td id=\"T_6e036288_ebe7_11ec_b4f3_79ec9b01585drow4_col1\" class=\"data row4 col1\" >0.420000</td>\n",
       "                        <td id=\"T_6e036288_ebe7_11ec_b4f3_79ec9b01585drow4_col2\" class=\"data row4 col2\" >-0.1 to 0.94</td>\n",
       "                        <td id=\"T_6e036288_ebe7_11ec_b4f3_79ec9b01585drow4_col3\" class=\"data row4 col3\" >high</td>\n",
       "            </tr>\n",
       "    </tbody></table>"
      ],
      "text/plain": [
       "<pandas.io.formats.style.Styler at 0x7f69ca157700>"
      ]
     },
     "execution_count": 75,
     "metadata": {},
     "output_type": "execute_result"
    }
   ],
   "source": [
    "df.head().style.hide_index()"
   ]
  },
  {
   "cell_type": "code",
   "execution_count": 85,
   "metadata": {},
   "outputs": [
    {
     "ename": "TypeError",
     "evalue": "format() got an unexpected keyword argument 'precision'",
     "output_type": "error",
     "traceback": [
      "\u001b[0;31m---------------------------------------------------------------------------\u001b[0m",
      "\u001b[0;31mTypeError\u001b[0m                                 Traceback (most recent call last)",
      "\u001b[0;32m<ipython-input-85-f3ff000a2a4c>\u001b[0m in \u001b[0;36m<module>\u001b[0;34m\u001b[0m\n\u001b[1;32m     14\u001b[0m ]\n\u001b[1;32m     15\u001b[0m ).hide_index()\n\u001b[0;32m---> 16\u001b[0;31m \u001b[0mdf\u001b[0m\u001b[0;34m.\u001b[0m\u001b[0mstyle\u001b[0m\u001b[0;34m.\u001b[0m\u001b[0mformat\u001b[0m\u001b[0;34m(\u001b[0m\u001b[0mprecision\u001b[0m\u001b[0;34m=\u001b[0m\u001b[0;36m0\u001b[0m\u001b[0;34m)\u001b[0m\u001b[0;34m\u001b[0m\u001b[0;34m\u001b[0m\u001b[0m\n\u001b[0m",
      "\u001b[0;31mTypeError\u001b[0m: format() got an unexpected keyword argument 'precision'"
     ]
    }
   ],
   "source": [
    "dfStyler = df.style.set_properties(**{'text-align': 'center'})\n",
    "dfStyler.set_table_styles([dict(selector='th', props=[('text-align', 'center')])])\n",
    "dfStyler.set_table_styles(\n",
    "[{'selector': 'tr:nth-of-type(odd)',\n",
    "  'props': [('background', '#eee')]}, \n",
    " {'selector': 'tr:nth-of-type(even)',\n",
    "  'props': [('background', 'white')]},\n",
    " {'selector': 'th',\n",
    "  'props': [('background', '#606060'), \n",
    "            ('color', 'white'),\n",
    "            ('font-family', 'verdana')]},\n",
    " {'selector': 'td',\n",
    "  'props': [('font-family', 'verdana')]},\n",
    "]\n",
    ").hide_index()"
   ]
  },
  {
   "cell_type": "code",
   "execution_count": null,
   "metadata": {},
   "outputs": [],
   "source": []
  }
 ],
 "metadata": {
  "kernelspec": {
   "display_name": "Python 3",
   "language": "python",
   "name": "python3"
  },
  "language_info": {
   "codemirror_mode": {
    "name": "ipython",
    "version": 3
   },
   "file_extension": ".py",
   "mimetype": "text/x-python",
   "name": "python",
   "nbconvert_exporter": "python",
   "pygments_lexer": "ipython3",
   "version": "3.8.3"
  }
 },
 "nbformat": 4,
 "nbformat_minor": 4
}
